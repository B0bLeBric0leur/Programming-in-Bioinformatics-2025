{
 "cells": [
  {
   "cell_type": "markdown",
   "metadata": {},
   "source": [
    "# Processing FASTA files\n",
    "\n",
    "Exercise for processing DNA sequences.\n",
    "\n",
    "* **Contact:** mate.balajti@unibas.ch"
   ]
  },
  {
   "cell_type": "code",
   "execution_count": 56,
   "metadata": {},
   "outputs": [
    {
     "ename": "ModuleNotFoundError",
     "evalue": "No module named 'numpy'",
     "output_type": "error",
     "traceback": [
      "\u001b[0;31m---------------------------------------------------------------------------\u001b[0m",
      "\u001b[0;31mModuleNotFoundError\u001b[0m                       Traceback (most recent call last)",
      "Cell \u001b[0;32mIn[56], line 1\u001b[0m\n\u001b[0;32m----> 1\u001b[0m \u001b[38;5;28;01mimport\u001b[39;00m\u001b[38;5;250m \u001b[39m\u001b[38;5;21;01mnumpy\u001b[39;00m\u001b[38;5;250m \u001b[39m\u001b[38;5;28;01mas\u001b[39;00m\u001b[38;5;250m \u001b[39m\u001b[38;5;21;01mnp\u001b[39;00m\n\u001b[1;32m      3\u001b[0m filename1 \u001b[38;5;241m=\u001b[39m \u001b[38;5;124m\"\u001b[39m\u001b[38;5;124msequences.fasta\u001b[39m\u001b[38;5;124m\"\u001b[39m\n\u001b[1;32m      4\u001b[0m filename2 \u001b[38;5;241m=\u001b[39m \u001b[38;5;124m\"\u001b[39m\u001b[38;5;124mgenome.fasta\u001b[39m\u001b[38;5;124m\"\u001b[39m\n",
      "\u001b[0;31mModuleNotFoundError\u001b[0m: No module named 'numpy'"
     ]
    }
   ],
   "source": [
    "import numpy as np\n",
    "\n",
    "filename1 = \"sequences.fasta\"\n",
    "filename2 = \"genome.fasta\""
   ]
  },
  {
   "cell_type": "markdown",
   "metadata": {},
   "source": [
    "## Exercise 1.1 (3 points)\n",
    "\n",
    "Write a function `parse_fasta()` that takes a path to a FASTA file as input\n",
    "and returns a tuple of two lists, the first containing sequence headers\n",
    "stripped of the leading `>`, and the second containing the actual sequences.\n",
    "\n",
    "> **Notes:**\n",
    ">  \n",
    "> * Please write the parser from scratch and do _not_ use existing FASTA\n",
    ">   parsers, such as the one provided by Biopython.\n",
    "> * Ensure that wrapped sequences are handled such that fragments of a given\n",
    ">   sequence are concatenated, without white space, in the order they appear\n",
    ">   in the file. Make use of the leading `>` character to separate records\n",
    ">   from each other.\n",
    "> * Ensure that the number of items in the returned lists correspond to the\n",
    ">   original number of records in the input file."
   ]
  },
  {
   "cell_type": "code",
   "execution_count": 25,
   "metadata": {},
   "outputs": [
    {
     "data": {
      "text/plain": [
       "(['chr1', 'chr2', 'chr3', 'chr4'],\n",
       " ['TATTTACGCTCCCGCACATATACCGTCGTAAGCGACTGGCTGCTCGCGACCAACCGCCTCGCTACGATTGAGTCGAGAGCGGGTAGACCGGAGGCCGTTCGGCGCATAACTTGTCTTGTTAATTAGGCTGCCTGTGAACGATATTCAATTATGGCACGTGGCGCATTAAGCTCCACGCCACATTCCAACTTCTAGTAGTATGCTGAAACACCGTGCGGGGGACAGAGAGCCATGGCAAATTCAGTTCGGTGTAGACCATACTTTATAACTGGACAACAAGTCCGAGTCCTTCACCTGATGCGCCCAGAACCCCGCATTTCTGTACCTATAGCACCGGCGCACACCCCTCTCACATGCTGGGCAGCAGAGTACTTCTCACTCGATCAGAGAAACCAAACCAGTTGATTGAAGTTCGCATAAGCGTGTTTGCTGTTGCTTGCGGCTCTCATGCACATAGTCGTTCAAGCTTACCCTCCACCGTCGGGCGACAATGCTCGGGGCGCGCATCAGACCGTATTGACTTTTTAGTACAGATTGGACGCAGAGGTTGAGTCATCGTATTCATGTGATAATCTCAACAGGTCCGTCTTGTTATCAAACTTAGTAGTGGGGAGGTGAGTGGTGCAATGTGGAAGTGCCGTAGCCAGCCCGCGATCCACGCACTATTTCAGGGACCGAGGTAACTTAAACCACCCGTTGATGGACATACTGGTTATAGATTTTAGTGCGGGAGTAGGCCTCGTCGCAGCGCAAAGGATGAAGTTTACTAACTGGAGTGGTCAGAAGTTGCCGCCTGTGAAGGCGGCACACGCTTAGTCCGCAATATTATGGGACTGGGGAGGCGACGGTATCCGAAGGTGCTCTGATCAGGATAGCCTCTAGACAGTAATCATGGGTTCTCCATTACGGAGTATTATGGCGGACCGATCGGTCACGTTAATTTGGCTAACTATACGTTCATATGGAGCACACTTCGCGGACCCGAGATCACTGGCCTGTTATTTATTTAGATCCTTCAAGGGTAACGACTACTACGTATAGCGTTAAATATCTCATGAGACCTCACAGAATCATTTTCGACTACAACTGCCCTCGGAGGCCTCCACAAGGCATTCATCCCGCGTTACTTCTGCCGCACTACGTGTCACCACTCAGCAACATTCTGATGGCTCTGCGAGAATTTGCGAGGATGGTAATATGATCCTTACGGAGCCGAAGGAAGCAGTCCACGTGGTCCGTTACTTTTCTAGATACGACGAATAGTTACTCCGAGGCTCTTCGTGCGTGGGTTGCCGGAACCTACGCATGCCACAGTCTAACCCACCCTAGAAGGGCTAGCCGGTAGCTGAGAGGGCCTGGGAGGCTTCCAGCTGTAAGGCTGAGTACACGCCGCTTGATGTCCACTGCGTCTTCCAATTCCTAAGACCCACTTATACGAGACATTCCTTGGTGACTGACGAAACGAGAAGCGCCTCCGCCGCCGGTCTAAGAATGTGGCCTGGTCAAGGACGGTAGGCGCCTAAACTAGGTGCAGTGAGGTACCCTTCCTACCTTGGGTTGCGCCGCAGGGGATTGACAAACACCTTTGTCAACTCATGATTAGAACAAAGCCCACGCGACCAGTGATGCCGCATCGCCTACGCTGAACCGTCGCAAAGTGTGCGGAATACTCTTCTGTCTGCTTGGTACTTTATGATAACGTGAGAGGAACCGAACGCGACCGGCCGTCGTTACATCATAGTAAAGCTACAGCCCGTTCACCCCCGGCAATAATACGACTCTTCCGAAAGGAAACTCAACACAATTGGCCGCTTCTAACATATAAATGCGGTTGGTGCCATTCCCTGCGGAACAATTTAGGACGGATAGTGAGGAACAAGTGCCATGCTTCACGCCAACTACTCCTAATGAAGACTCGTATTCCAATGAAACGAAAGGGTCTCACAGGACACGCACAGCCAAGCGTGGCAGGATCAATAACTAAGACAAGCATCGAGTATGACGCAGCCCCACTCGAATTTGTAGCCCCATGCGAGTCCACAGGGATTTTCTGCAGTAGGTGATACGAAACGTATAATTTTTTCCCCTGGCAGCGAAGGAACCATAAAGAAGTTGGTCTGCCCTAA',\n",
       "  'ATCCATCTACGCCTAGTGATATTCACGAGCAAACGCCTGCCAAGATACGTAAGACACTCATGTAAATAGTCCGTAGCCCCGACATCACCGGTCCACCTCGAGCAGCGCGCATTGATAAGGTGGGGATTGTGCCTATAGTATCGGTGGTGTATGTGTAACGCGTCCGGCAACGTCGTTTCATACCGCACTCTCGATTACGTGGTTCATAAGTATCTAAAGTATTTTCTTTCGCGGCGAATCTTTGACATAACACTATGCGATGCCCCTCCAGTTCATTCATAGCTGGAGGGGTAGATACCCCAAGTACCTTATTAGACGACCTAGTTACCTAGAAGTTGGTACGGGTGCCGCCACAGCGAGTTGTGTAGGGATAAGCATGAACATTCACAGACGCGCGAGAGGGTGGTGGACGGATGCCTTGCCTTTTTCCATGCGAGACAGACGAAGCTAATCGCCATTATCACTGCGTTGATGGGACTTTGCGTACTAGCGCTCAGTTATATCTAGCGGTAGTTATACCCTATGTGTTTATTGTTCCTTCTGGCCACCTCCGCGCTACCTTGCCTTCACGCAAGCAGCAGAACAGTATTCCGCCATAAATTGGTCTAGTCCTTCTTGCCAGCGATTACAAGCTGGGGAGGCGTTCAGTCTTTCCGAAAAGCGTTTTAAAGCTCCTCCCCTCAACCCTTCGACCTACCTGAGCAAATGGAATTAATAGTGGCTATCTAACTGGTCCACCATCATGTAGAGCCAAGGATACGTATGGTCATTAGAGAACTAATGTACACAGTAGGCGAGTAAAGCGTGTGCAGATCTTCCACCCACAGGTATATTTTACGGAGGTCTGGCTCCCCGGTCCGTAACAGGTCCACCGCCTCCGGGTAAGTTGGCGCGTATTGTGCTCGTTGCTGACCGGCGACGAACACTTCCACACCTCGTGGTTGTACGGTTTGATGGGCGCTAGTTTGTATTGCTCTAGAAGGCCCCGTAAGTCAGCCATCACGCACGTCACCGCAATTGTTGCCTCGTAACGAGTGATTTGAGCGCCCCGCTTACTTCAGTGACCACGAGAACGGGAGGACCTTCCACATGTGCCTCCGCCGAAGCGGCACCGAGACTGTGGTCCGTCTCTGCCATACGTGTTGGACAGTTGCAAACCGCGTCTCCCCTTAAATTTGGCAGTTGAGTCCCCACGTCAAACGTCCACCTCTGTCCTTGGCGCCGATTGTTAGGGAGAAGGTAACTTCTCCGGAGTAATGTGTACTCAGGTCGAGCATTGGCTCCGTTATAGTATAGGTCCCGTAGGACTACAGTGGTTCGGGGACCTTCCGGTGAACAGCTTGCGTGAAAGTGACCGTAGAAGGGGTAACTTGTAAACCTCGGGCGTGCGTCTGAATCAGTCGAGTAGTATCCTCCGCATAGCCCGGGCGTATGTATGAGAGATGTGGCCAGAAGTCGAAATCAGCGGTACAGGTTGCACTCATTAAGAAGCGAGTTTGGTGAGAGGCGAGACCGCAAGCACACGTGTGAGTCTTTTTGATCGGTCCTCTTCGGTCGGTGGCACTGAGGCTTGAAGCCATGTATAACGGCGCCGAGAACTTGGCGGCTAAGACTCATGGGCAATCGATGTTGTTAGAGGCTTGCACAAAAAACTCGAGCTTATGTCTATAACAAAACGCTCAGAATCCCTCTCAAACCGCGGGGCAATGCGGCCGCAACGATCTAGGGTCGGGCCTAGTGTTGTCTTTAATGCAGATAAGCACAGTTCGAAGGAGTATATCACAGAACCGCCTTCTGGAATCGACTTGAAAATCTGAACTTCCGGCCGATTTGAATCGCGAACCCATTTTGGACTCTGCTCGGTTATACGATGGAAATGTGCTGACATCCGGCGACAGTTAGCAGTGACCATGAAACCTTGGGACCGTTGCGCCTGCACACACACGATAATGAACGCGGCCAAGGTCATTGATTTAGCCTGCTGATCTCGCTGGCCTCATACGCTTGAGAAAGTCTTCGGCTACCCACTGACGCGCGACTCCATTGCATCGAGTAAAGAAGCTACCTTTGCCGGTGGGGCGGGCCGTGGGAATCAGCCGCATCATAAAGTGTCCAGTCCAGAGCAGT',\n",
       "  'GTACCACACCATCGACTGTTGCACCTATTCGTCTGGATCAGCACTAGTTAGATCTTGGCGAAAGTGAACAACCCAAAGACTAGGGTAAATCCTAGCGCCTACTCAGAGACACTTGAGGATGGGACCATAGCAACCTTACCCCTCCACGGTTATAAGTTTCGGGAGAGTCCGGCGTTTTGGGATAGCGAACCCTGGGACGAGGCGCGGCTCTGTGCGTAATACGATACTGGCAGTGTGTACTAGGGACGAGGCTTCGCAGCAACTGAATACATAAGACCTGACTACGCCAAATCCAGCCATGAAAGATCTTAGTCTAATGCTCCTACCACCCCACGTACTTCCGTTAATCATAAGTCAAGGCAGACGTACCAACACGCCACGTAGAGCGTAAGACTGAGTCGTAATTAAACACTGACCGCGTATTGCGGCAGAACCAGTTAGGCCCGTCGCTTACAACTCCACGCACTCAGTGTCCGACCTGCAGTCCTAGCACTGACATATGACTGGAGATCTACTTCGCCGGATCTCCCATCATCTGGTGTGGAGAGTGTAGTCGGATGAGCACGTCCCCCGGGAAGAGGTCCGAGTATTTGCGAGGCCTTCCTTTTATATGATCGCCCTGAATGCAGAGCAGGCGGGTGAGAAAGACGCCATGGTGCCGGGGACCCAGGTCGCTCTCACATGACATGCTCACAATTATACTTTAATAAAGCCTAGAATTGGTCACTTGATGTCTACATTACACCAGCTTGCCAAATGATTGCAACGCGTTACAGTGCAACAGACGATCGATTTTATCTAAGCACTAATGTCAAGAGGAGTCAACTACACCCAAGGCCTTCCTACTAGTGGTGTCAGCAAACGGGAACAGGTCTGAGTTTCCATGTGACAAGCTCGCTGTCTTCTTGGCCTTTTAAGACGGCTTTAGCCTGTGAGGGAGAAAGTGGCCTCTCTCACTCCTAACTAGAGTTCCTCCGAGACCGACCGAAGTGGATAGTACACATTTCGTGTTATTGGCTCTCATTTGTTTATTCTTGTCTAGGCATAGAAGTTGTCCCCACTAGCCTGGTCTCGTTCAGGCGTAGTATATGGAATACATAGTCGATGGTCTAGTGAAACTCCTTTAATACCCCCATAAATCTCCTTCCGTCAGTAGTTCTGCGAAGACTACGATTCCTCCTAAGTGATGGATAAACGCTCACTAATGTCGGATGGGACATGAAAGACATTAGATTTGCGACATTCGATAAGCCCCATTACCTCTTAGCTACTGCTGCAGCGCACTCTCTGGTCAATCACAATAACGCGGCGTGCGATGCACCCCGGCAGAGGGACTTTCGTACATTACGGACCCGCGGTTTGTAGTTCTTCATCTGCAATGTCTCATTGCTAAGGTTCTGTTGTTGGTTGGGGGGGGACGCTTTGAGAGGCCTCCACCTCAACCGAGCTAGTGCTTGGGCATGTGATCCTATTCGCCTCATATCATATTGATCATCCAGTTCTAGTTGCCCGGTGACGAGCTCCTATGTATTCCTCTCGAATCTATATGGGCGGACCTAGTGTCCGCCTCGCCCTTTGTACACCATGAGGAAAAACCGGTGCAGTCGGGGGAATACGGACCAGGCAGTGCAATTGCAAAATCCCGGCGGGGTTCCGGGATTACACAAAGGTATGCAGCCCAGTGTCCAGTTGTGAACATTGCGGGATCGGGCCTGCAAGCCGCCGCCTAGGCAAGTGGCACAAATATCTTGGCTTCGAGGCACACTTCACGGTTTACTAGCAGTCCCATAAGCGAAGGACTAGTAAATCCCGCCGTTATCCTTCGTCCACAACATGGTTGGCTATGTGGTGAGTGAACTCTCCTTAAGCCATAATAACGATGTAACGCGTCCTTTACGGTGCGAAGTCAGCCTGTTCGCAATCAGCAAGGAACTAGACCCTGAAGGAAGCGTCGGAAGTGAGAGCCTCCACTATCGGAATCCCCTTGCACTCCCCGTACACGTCGTATGTGCACCGGGAGCTCTCTTCGCGCTTCCCGCTGTGCTTTCTACCGGTTCAGAGCATACATGGAGTTTGGCATTGTGCTGTTAAGCTATAGTAACGAAGTGCGTGGCCTACTCGGAA',\n",
       "  'ACCCATCGACCACATTATATGAACTGAACGCCTTGACTTATCGACAAGTAACTCGCCCACATGAAATTAAATATGGGGTGATCTACCCGATTCACCTGGTGCCAACCCTCAGACGGCTGACCGCATATTAACGAGGTACATCAACAAGACACGAGGATCTACCGATGGCCGGGGGTTTCATAATCGGGGACACGAAATAAGGTGAAATATCGTGCACTGCTAGTGCCTCGGGCAGACCGTCTACCCTAAACGCGAGCCGATGGCCTGTCTGGATGCTGCATTTCGTACCAACAGTGTACCCCGCTACAGGCGAGATGGTTCCTCAGGACTCGTGGGGGTGTAACCATTGACCAGTGTCGAGAAAATTCAATAACCAGGGGCGTGAAGCCTGGTGTGCTCTATAGAGACGGCCTCTTACGTTAGAAACTCAACGATGCTGTAGTGTAAGGCAAATCCCTATCCTCTGGGCTACTAGAGGCTAGCAAATGTCCGCCGGGTCTGCATCACAGGGCTAATCCGCACCCTTCCGAGTAGCCTTTGGACACATCAGTTGTTCTGTTAGCAGCGCGGCTGGAATTAGAGATTACAAATTAGACCGCGACTGCGTCGGCGCACTTACACAAATTCCGAACACCGATGTGTGCCGAAACCCTCGTACAGTGGAGGACGTCGGACAGAAAGAACGTCATTAATTCCAGCGTAGACATCGATGGGGTTTGGCGCTTATTTCGCGGCTGAGTGCGGCAGCCATTCCTGCGGTGAAATCGCCCCAATACCGCTCTAAATTAACCATTAGGGGCCGACTTGCACGTATCTCGAAGGACGAGACCTAAATCCCCCACAATTCCTATCCACTCCATGTTAGCATAATTCCATGAGTTACGTGGCGGCTAAGCGTAAGTCAGCTCTGGTATTTTGGATCTGATCTACATTAATTAGTAGCAGTGGTTCTTACCGGGCAGCGAAGGAACTCGTAGTTCTAGGAATCATGTGTGCCCCCCCTGCGGACTTGTCCTATATTACAAATTTGCGAACGCCTTGAGAATGAATACAGTATACTTCGAAGTGCGCGCCTTTGAAATAGCGACAGCTCCCTAAAGATCGGTGCGCGAAGTGCTTGTTGACGGCCACCGTTAGACCATGATGTCGGGAAGCTTGCCGTAGTACTATTGACGTACCAATAACATCACCCTATGACAGGGCACTCCCCCCAATTGCACGGTTGACACTCTGTTCATTCGCTGAGATTGATGACTCTGCTTTTGAACGTTGCTTCTGTCCAAATGATTATGTGTCCGGTAACTATAAACGTGCTACGATGTCTGGATTAGAACAGCAAGCGGGATCCAACAGCCATCCCTTCTAACAGCACAATGATAGTACACACATACGGGAGTCCCCCTGAGGTGTCGCAATTATGCATCATCGAGCAACTATATTTTCATGCCCGCACCTTTGAGAATACATAGGAACATTACGTTTCCTGGGGATATGTCGTTGAATATCTAAACTGGCCGCTCATAGGGTCCATACAAGCTCAGTGCTGACTCTAGGTGAAGAGGTGAGGTAAACGTTCTTCAATCCCGTACGAACGTGCGGATCGCGCGGGCTCTCACCAGCTATCTTACTATTGCCCTCTGTGGAAGGGACGGACATTATCTAACTGGCATTATCTGTAACACAACGCTACTCCGCCCTTTGCAGAACTAATACAACTCTTTTGACATATCATCTGACAGCTTCGTTGAATTAATAATGTCACCGACGCGTGTCCGTAAGAGGCTACAGCCCTAGGGGTTCACCAACATTGGGGTGGATAGAGTGCTCTCGGGTTGCATCGACTCGCCGAAGGGTCTCTGTTTCCGTAAATGACCAGATCCGTAAGCACAGGTTGTGTGTTATGGATTCAAAATAACCCAAGGAGCTCATCCGTGCTCAGCACAGCGATAAGGTAGTAGTGATCGGCAGCTACTGATGCATGGGTCGTGACGGCACTTCTAGCTCTTAGTTCATCCCCAATGCCGGAAGTTGTAGCAAACCACTGTTCGGCTCGTGGAATGAATCGATCTGTCTCAGCCTTCATGGCTTCATAAGATGGGGATGATAAAGAAGCAAGTGTACACAGGCGTATACCC'])"
      ]
     },
     "execution_count": 25,
     "metadata": {},
     "output_type": "execute_result"
    }
   ],
   "source": [
    "def parse_fasta(path: str) -> tuple[list[str], list[str]]:\n",
    "    \n",
    "    file = open(path)\n",
    "    \n",
    "    header = []\n",
    "    current_header = \"\"\n",
    "    sequence = []\n",
    "    current_seq = \"\"\n",
    "\n",
    "    for line in file:\n",
    "        line = line.strip() # remove withspaces and newlines\n",
    "        if line.startswith('>'):\n",
    "            if current_seq:\n",
    "                sequence.append(current_seq)\n",
    "            current_seq = \"\"\n",
    "            current_header = line\n",
    "            header.append(current_header[1:])\n",
    "\n",
    "        elif line:\n",
    "            current_seq += line\n",
    "                \n",
    "    sequence.append(current_seq)\n",
    "\n",
    "\n",
    "\n",
    "    return header, sequence\n",
    "\n",
    "parse_fasta(\"genome.fasta\")"
   ]
  },
  {
   "cell_type": "markdown",
   "metadata": {},
   "source": [
    "## Exercise 1.2 (2 points)\n",
    "\n",
    "Write a function `discard_ambiguous_seqs()` that takes two arguments, a list of sequence headers and list of strings as input \n",
    "and returns a tuple of two lists with only those headers and strings that exclusively consist of letters of the\n",
    "\"DNA alphabet\" (`A`, `C`, `G`, `T`).\n",
    "\n",
    "> **Notes:**\n",
    ">  \n",
    "> * Make sure your implementation is case-insensitive, i.e., sequences\n",
    ">   containing lowercase DNA characters, even if mixed with uppercase\n",
    ">   characters, are valid as well."
   ]
  },
  {
   "cell_type": "code",
   "execution_count": null,
   "metadata": {},
   "outputs": [
    {
     "name": "stdout",
     "output_type": "stream",
     "text": [
      "ERROR : chr2 has a none valid character -> ACNT\n",
      "ERROR : chr4 has a none valid character -> atcj\n",
      "Correct result:\n",
      "Result headers: ['chr1', 'chr3']\n",
      "Result sequences: ['AAAA', 'aTGCgcA']\n"
     ]
    }
   ],
   "source": [
    "def discard_ambiguous_seqs(header: list[str], sequence: list[str]) -> \\\n",
    "  tuple[: list[str], : list[str]]:\n",
    "    \n",
    "    r_header = []\n",
    "    r_sequence = []\n",
    "\n",
    "    valid_chars = set('ACGT')\n",
    "\n",
    "    for i in range(len(sequence)):\n",
    "        seq = sequence[i]\n",
    "\n",
    "        seq_upper = seq.upper()\n",
    "\n",
    "        if all (char in valid_chars for char in seq_upper):\n",
    "          r_header.append(header[i])\n",
    "          r_sequence.append(seq)\n",
    "        else:\n",
    "           print(f\"ERROR : {header[i]} has a none valid character -> {seq}\")\n",
    "        \n",
    "        \n",
    "\n",
    "    return r_header, r_sequence\n",
    "\n",
    "list1 = [\"chr1\", \"chr2\", \"chr3\",\"chr4\"]\n",
    "list2 = [\"AAAA\", \"ACNT\", \"aTGCgcA\", \"atcj\"]\n",
    "\n",
    "r_header, r_sequence = discard_ambiguous_seqs(list1, list2)\n",
    "print(\"Correct result:\")\n",
    "print(\"Result headers:\", r_header)\n",
    "print(\"Result sequences:\", r_sequence)"
   ]
  },
  {
   "cell_type": "markdown",
   "metadata": {},
   "source": [
    "## Exercise 1.3 (2 points)\n",
    "\n",
    "Write a function `nucleotide_frequencies()` that takes a list of strings as\n",
    "input, and which prints out the total frequency of each nucleotide across\n",
    "all input sequences. Use the following example as a template to format your\n",
    "output:\n",
    "\n",
    "```console\n",
    "A: 0.31\n",
    "C: 0.21\n",
    "G: 0.17\n",
    "T: 0.31\n",
    "```\n",
    "\n",
    "> **Notes:**\n",
    ">\n",
    "> * Note how numbers are rounded in the example and format decimals printed\n",
    ">   by your solution in the same manner, i.e., rounded to two significant\n",
    ">   digits.\n",
    "> * The function does not require any specific return value. In case you are\n",
    ">   not aware of how Python deals with functions without an explicit `return`\n",
    ">   statement, look up the behavior in relevant documentation."
   ]
  },
  {
   "cell_type": "code",
   "execution_count": 54,
   "metadata": {},
   "outputs": [
    {
     "name": "stdout",
     "output_type": "stream",
     "text": [
      "A: 0.2\n",
      "C: 0.33\n",
      "T: 0.26\n",
      "G: 0.21\n"
     ]
    }
   ],
   "source": [
    "def nucleotide_frequencies(seqs: list[str]) -> None:\n",
    "    \n",
    "    total_nucleotides = 0\n",
    "    count_A = 0\n",
    "    count_C = 0\n",
    "    count_T = 0\n",
    "    count_G = 0\n",
    "\n",
    "    for seq in seqs:\n",
    "        for nucleotides in seq:\n",
    "            if nucleotides == 'A':\n",
    "                count_A += 1\n",
    "                total_nucleotides += 1\n",
    "            if nucleotides == 'C':\n",
    "                count_C += 1\n",
    "                total_nucleotides += 1\n",
    "            if nucleotides == 'T':\n",
    "                count_T += 1\n",
    "                total_nucleotides += 1\n",
    "            if nucleotides == 'G':\n",
    "                count_G += 1\n",
    "                total_nucleotides += 1\n",
    "    \n",
    "    freq_A = round((count_A / total_nucleotides),2)\n",
    "    freq_C = round((count_C / total_nucleotides),2)\n",
    "    freq_T = round((count_T / total_nucleotides),2)\n",
    "    freq_G = round((count_G / total_nucleotides),2)\n",
    "\n",
    "    print(\"A: \" + str(freq_A))\n",
    "    print(\"C: \" + str(freq_C))\n",
    "    print(\"T: \" + str(freq_T))\n",
    "    print(\"G: \" + str(freq_G))\n",
    "\n",
    "test_seq = [\"AGCTGGGGAGGCGTTCAGTCTTTCCGAAAAGCGTTTTAAAGCTCCTCCCCTCAACCCTTCGACCTACCTG\"]\n",
    "nucleotide_frequencies(test_seq)"
   ]
  },
  {
   "cell_type": "markdown",
   "metadata": {},
   "source": [
    "## Exercise 1.4 (3 points)\n",
    "\n",
    "Write a function `map_reads()` that takes as input two FASTA files, the first\n",
    "containing short read sequences (\"query\"), and the second containing reference\n",
    "sequences. The function should \n",
    "* read the files, \n",
    "* discard _query_ sequences that contain non-DNA characters, \n",
    "* print the nucleotide fractions for both files to\n",
    "the console \n",
    "* and returns a dictionary of dictionaries, where the outer\n",
    "dictionary uses the names of query sequences as its keys, and the inner\n",
    "dictionary uses reference sequence names as keys and a list of 1-based indices\n",
    "indicating at which position (counting from left to right) in the reference\n",
    "sequence the query sequence occurs as an exact substring.\n",
    "\n",
    "Execute the function, passing `sequences.fasta` and `genome.fasta` as input.\n",
    "Inspect the returned \"hits\" object (the dictionary of dicionaries). Interpret\n",
    "the results in at least 2-3 bullet points. What's special about query sequence\n",
    "`sequence4`?"
   ]
  },
  {
   "cell_type": "code",
   "execution_count": 90,
   "metadata": {},
   "outputs": [
    {
     "name": "stdout",
     "output_type": "stream",
     "text": [
      "ERROR : sequence3 has a none valid character -> ATGATTDATGTGTCCGGTAACTATAAACGTGCTACGATGT\n",
      "Queries :\n",
      "A: 0.23\n",
      "C: 0.17\n",
      "T: 0.25\n",
      "G: 0.36\n",
      "Reference :\n",
      "A: 0.25\n",
      "C: 0.26\n",
      "T: 0.24\n",
      "G: 0.25\n"
     ]
    },
    {
     "data": {
      "text/plain": [
       "{'sequence1': {},\n",
       " 'sequence2': {'chr2': [1422]},\n",
       " 'sequence4': {'chr2': [1039], 'chr3': [1422], 'chr4': [1455]}}"
      ]
     },
     "execution_count": 90,
     "metadata": {},
     "output_type": "execute_result"
    }
   ],
   "source": [
    "def map_reads(filename1: str, filename2: str) -> dict[dict[str: list[int]]]:\n",
    "     \n",
    "    q_header, q_seq = parse_fasta(filename1)\n",
    "    r_header, r_seq = parse_fasta(filename2)\n",
    "\n",
    "    q_header, q_seq = discard_ambiguous_seqs(q_header, q_seq)\n",
    "    r_header, r_seq = discard_ambiguous_seqs(r_header, r_seq)\n",
    "\n",
    "    print(\"Queries :\")\n",
    "    nucleotide_frequencies(q_seq)\n",
    "    print(\"Reference :\")\n",
    "    nucleotide_frequencies(r_seq)\n",
    "\n",
    "    findings = {}\n",
    "    \n",
    "    for i, query_seq in enumerate(q_seq):\n",
    "        if query_seq:  \n",
    "            query_name = q_header[i]\n",
    "            findings[query_name] = {}\n",
    "           \n",
    "            for j, ref_seq in enumerate(r_seq):\n",
    "                if ref_seq:  \n",
    "                    ref_name = r_header[j]\n",
    "                    \n",
    "                    positions = []\n",
    "                    query_len = len(query_seq)\n",
    "                    ref_len = len(ref_seq)\n",
    "                    \n",
    "                \n",
    "                    for pos in range(ref_len - query_len + 1):\n",
    "                        if ref_seq[pos:pos + query_len] == query_seq:\n",
    "                            positions.append(pos + 1)\n",
    "                    \n",
    "                    if positions:\n",
    "                        findings[query_name][ref_name] = positions\n",
    "    \n",
    "    return findings\n",
    "    \n",
    "map_reads(\"sequences.fasta\", \"genome.fasta\")\n"
   ]
  },
  {
   "cell_type": "markdown",
   "metadata": {},
   "source": [
    "## Key findings\n",
    "* sequence1 was not found in any chromosome\n",
    "* sequence2  was found in chr2 at position 1422\n",
    "* sequence3 is not valid because htere is a D that is a none valable character.\n",
    "* sequence4 is shorter than the other so maybe it easier and has a higher probabilty to be found in the chromosomes. Like we can see in the results in appears in chr2 at pos 1039, chr3 at pos 1422, chr4 at pos 1455\n"
   ]
  }
 ],
 "metadata": {
  "kernelspec": {
   "display_name": "Python 3",
   "language": "python",
   "name": "python3"
  },
  "language_info": {
   "codemirror_mode": {
    "name": "ipython",
    "version": 3
   },
   "file_extension": ".py",
   "mimetype": "text/x-python",
   "name": "python",
   "nbconvert_exporter": "python",
   "pygments_lexer": "ipython3",
   "version": "3.9.6"
  }
 },
 "nbformat": 4,
 "nbformat_minor": 2
}
